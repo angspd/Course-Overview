{
 "cells": [
  {
   "cell_type": "markdown",
   "metadata": {},
   "source": [
    "1. Write a script that prompts the user for his or her name. Using a loop that counts downward, print the name with the letters reversed. You may use `s.lower()` and `s.upper()` to change a string `s` to lowercase and uppercase letters.\n",
    "```\n",
    "Enter your name: Paul \n",
    "Luap\n",
    "```\n",
    "If the name is the same forward and backwards, print \"Palindrome!\" on the next line.\n",
    "```\n",
    "Enter your name: Ana \n",
    "Ana \n",
    "Palindrome!\n",
    "```"
   ]
  },
  {
   "cell_type": "code",
   "execution_count": 22,
   "metadata": {},
   "outputs": [
    {
     "name": "stdout",
     "output_type": "stream",
     "text": [
      "Enter your name: Ana\n",
      "anA\n",
      "\n",
      "Palindrome!\n"
     ]
    }
   ],
   "source": [
    "name = input(\"Enter your name: \")\n",
    "\n",
    "length = len(name)\n",
    "name2 = ''\n",
    "\n",
    "while length>0:\n",
    "    print(name[length-1], end ='')\n",
    "    name2 += name[length-1]\n",
    "    length -= 1\n",
    "\n",
    "print('\\n')\n",
    "#print('Name is', name)\n",
    "#print('Name2 is', name2)\n",
    "\n",
    "if name2.lower() == name.lower():\n",
    "    print('Palindrome!')\n",
    "else:\n",
    "    print('Not palindrome!')\n",
    "  "
   ]
  },
  {
   "cell_type": "code",
   "execution_count": null,
   "metadata": {
    "collapsed": true
   },
   "outputs": [],
   "source": []
  },
  {
   "cell_type": "markdown",
   "metadata": {},
   "source": [
    "2. Write a script that prompts the user for an integer tree size, then displays a number tree as shown below:\n",
    "\n",
    "Enter a size: 5 \n",
    "```\n",
    "    1\n",
    "   121\n",
    "  12321\n",
    " 1234321 \n",
    "123454321\n",
    "```"
   ]
  },
  {
   "cell_type": "code",
   "execution_count": 69,
   "metadata": {},
   "outputs": [
    {
     "name": "stdout",
     "output_type": "stream",
     "text": [
      "Enter a size: 5\n",
      "    1\n",
      "   121\n",
      "  12321\n",
      " 1234321\n",
      "123454321\n"
     ]
    }
   ],
   "source": [
    "n = int(input(\"Enter a size: \"))\n",
    "\n",
    "i = 1\n",
    "s= ''\n",
    "while i < n+1:\n",
    "    \n",
    "    #to append first half of string\n",
    "    for x in range(1,i+1):\n",
    "        s += str(x) \n",
    "    #to append second half of string\n",
    "    for x in range(i-1,0,-1):\n",
    "        s += str(x)\n",
    "    \n",
    "    #to add n-1 spaces before each line\n",
    "    for y in range(i,n):\n",
    "        s = ' '+s\n",
    "    \n",
    "    print(s)\n",
    "    s = ''\n",
    "    i += 1\n",
    "    "
   ]
  },
  {
   "cell_type": "code",
   "execution_count": null,
   "metadata": {
    "collapsed": true
   },
   "outputs": [],
   "source": []
  },
  {
   "cell_type": "markdown",
   "metadata": {},
   "source": [
    "3. The Fibonacci numbers begin with 1, 1.  After the first two numbers, each number is the sum of the previous two. 1 + 1 = 2, so 2 is the third number. Then 1 + 2 = 3, so 3 is the next one, and so on. Write a script that prompts the user for a number, then prints all the Fibonacci numbers that are less than or equal to the input, in order.\n",
    "\n",
    "```\n",
    "Enter a number: 15\n",
    "1 1 2 3 5 8 13\n",
    "```"
   ]
  },
  {
   "cell_type": "code",
   "execution_count": 11,
   "metadata": {},
   "outputs": [
    {
     "name": "stdout",
     "output_type": "stream",
     "text": [
      "Enter a number: 22\n",
      "1 1 2 3 5 8 13 21\n"
     ]
    }
   ],
   "source": [
    "n = int(input(\"Enter a number: \"))\n",
    "\n",
    "\n",
    "#first two digits\n",
    "prev2 = 1\n",
    "prev1 = 1\n",
    "\n",
    "ans = str(prev2) + ' ' + str(prev1)\n",
    "\n",
    "sum = 1\n",
    "while sum < n:\n",
    "    \n",
    "        sum = prev2 + prev1\n",
    "        prev2 = prev1\n",
    "        prev1 = sum\n",
    "        \n",
    "        #to prevent new sum from being appended if bigger than n\n",
    "        if sum <=n:\n",
    "            ans += ' ' + str(sum)\n",
    "        else:\n",
    "            break\n",
    "    \n",
    "print(ans)"
   ]
  },
  {
   "cell_type": "code",
   "execution_count": null,
   "metadata": {
    "collapsed": true
   },
   "outputs": [],
   "source": []
  },
  {
   "cell_type": "markdown",
   "metadata": {},
   "source": [
    "Pascal's triangle is a triangle of numbers that is computed as follows.  The first row contains a 1.  Each row after that begins and ends with a 1, and every other number is the sum of the two numbers above it.  The first six rows of Pascal's triangle are shown below.\n",
    "```\n",
    "      1\n",
    "     1 1\n",
    "    1 2 1\n",
    "  1  3 3  1\n",
    " 1 4  6  4 1\n",
    "1 5 10 10 5 1\n",
    "```\n",
    "Write a script to compute the *n*th row of Pascal's triangle."
   ]
  },
  {
   "cell_type": "code",
   "execution_count": 22,
   "metadata": {},
   "outputs": [
    {
     "name": "stdout",
     "output_type": "stream",
     "text": [
      "Enter a number: 3\n",
      "  1\n",
      " 1 1\n"
     ]
    }
   ],
   "source": [
    "n = int(input(\"Enter a number: \"))\n",
    "\n",
    "s = ''\n",
    "\n",
    "#code for row 1 alone\n",
    "row1 = '1'\n",
    "for y in range(1, n):\n",
    "    row1 = ' ' + row1  \n",
    "print(row1)\n",
    "\n",
    "#independent code for row 2 alone\n",
    "row2 = '1 1'\n",
    "for y in range(1, n-1):\n",
    "    row2 = ' ' + row2\n",
    "        \n",
    "print(row2)\n",
    "\n",
    "#code for nth rows\n",
    "nrow = []\n",
    "for x in range(1,n*2):\n",
    "    nrow.append(' ')\n",
    "nrow[0] = 1\n",
    "nrow[n*2] = 1\n",
    "\n",
    "for value in nrow[2,n*2,2]:\n",
    "    \n",
    "#GAVE UP"
   ]
  }
 ],
 "metadata": {
  "kernelspec": {
   "display_name": "Python 3",
   "language": "python",
   "name": "python3"
  }
 },
 "nbformat": 4,
 "nbformat_minor": 1
}
