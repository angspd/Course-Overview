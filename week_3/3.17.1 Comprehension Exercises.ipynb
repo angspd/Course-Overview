{
 "cells": [
  {
   "cell_type": "markdown",
   "metadata": {},
   "source": [
    "Use a comprehension to make a list of the square numbers below 100 that give a remainder of 1 when divided by 3."
   ]
  },
  {
   "cell_type": "code",
   "execution_count": 6,
   "metadata": {},
   "outputs": [
    {
     "data": {
      "text/plain": [
       "[1, 4, 16, 25, 49, 64]"
      ]
     },
     "execution_count": 6,
     "metadata": {},
     "output_type": "execute_result"
    }
   ],
   "source": [
    "#a_list = [number for number in range(1,6) if number % 2 == 1]\n",
    "\n",
    "[i**2 for i in range(1,10) if (i**2)%3 == 1]\n"
   ]
  },
  {
   "cell_type": "markdown",
   "metadata": {},
   "source": [
    "A string is defined in the code snippet below.  Split it into individual words and use a comprehension to make a list of the first letters of each word in the snippet."
   ]
  },
  {
   "cell_type": "code",
   "execution_count": 16,
   "metadata": {},
   "outputs": [
    {
     "data": {
      "text/plain": [
       "['I',\n",
       " 'l',\n",
       " 'm',\n",
       " 'l',\n",
       " 'a',\n",
       " 'q',\n",
       " 'm',\n",
       " 'a',\n",
       " 'a',\n",
       " 't',\n",
       " 'N',\n",
       " 'e',\n",
       " 'm',\n",
       " 'n',\n",
       " 't',\n",
       " 'm',\n",
       " 'n',\n",
       " 't',\n",
       " 's',\n",
       " 'n',\n",
       " 'm',\n",
       " 't',\n",
       " 'a',\n",
       " 'a',\n",
       " 't',\n",
       " 'b',\n",
       " 'F',\n",
       " 't',\n",
       " 't',\n",
       " 's',\n",
       " 'o',\n",
       " 'l',\n",
       " 'I',\n",
       " 'f']"
      ]
     },
     "execution_count": 16,
     "metadata": {},
     "output_type": "execute_result"
    }
   ],
   "source": [
    "text = \"\"\"I live my life a quarter mile at a time. \n",
    "Nothing else matters: not the mortgage, not the store, not my team and all their bullshit. \n",
    "For those ten seconds or less, I’m free.\"\"\"\n",
    "\n",
    "#give me first letter of each word for all the words in text.split()\n",
    "[word[0] for word in text.split()]"
   ]
  },
  {
   "cell_type": "markdown",
   "metadata": {},
   "source": [
    "A Pythagorean triple is a set $(x,y,z)$, with positive integers $x \\leq y \\leq z$ such that $x^2 + y^2 = z^2$.  Use a comprehension to make a list of all Pythagorean triples with numbers below 25."
   ]
  },
  {
   "cell_type": "code",
   "execution_count": 24,
   "metadata": {},
   "outputs": [
    {
     "data": {
      "text/plain": [
       "[{3, 4, 5}, {5, 12, 13}, {6, 8, 10}, {8, 15, 17}, {9, 12, 15}, {12, 16, 20}]"
      ]
     },
     "execution_count": 24,
     "metadata": {},
     "output_type": "execute_result"
    }
   ],
   "source": [
    "#give me a list of set (x,y,z) for all sets(x,y,z) b\n",
    "[{x,y,z} for x in range (1,25) for y in range(1,25) for z in range(1,25) if (x**2 + y**2 == z**2) and x <= y <= z]"
   ]
  },
  {
   "cell_type": "markdown",
   "metadata": {},
   "source": [
    "Given a word, provided below, use a comprehension to make a list of all strings that can be formed by deleting exactly one character from the word."
   ]
  },
  {
   "cell_type": "code",
   "execution_count": 3,
   "metadata": {},
   "outputs": [
    {
     "data": {
      "text/plain": [
       "['elcomed',\n",
       " 'Wlcomed',\n",
       " 'Wecomed',\n",
       " 'Welomed',\n",
       " 'Welcmed',\n",
       " 'Welcoed',\n",
       " 'Welcomd',\n",
       " 'Welcome']"
      ]
     },
     "execution_count": 3,
     "metadata": {},
     "output_type": "execute_result"
    }
   ],
   "source": [
    "#how we would do it with a loop\n",
    "word = \"Welcomed\"\n",
    "#word2 = ''\n",
    "#i = 0\n",
    "#while i < len(word):\n",
    "#    word2 = word[0:i] + word[i+1:len(word)]\n",
    "#    #del word[i]\n",
    "#    print (word2)\n",
    "#    i+=1\n",
    "\n",
    "    \n",
    "    \n",
    "#To remove a single character from a position in a string, use the form string[:index] + string[index + 1:]    \n",
    "#how we would do it with a comprehension\n",
    "# can be read as give me a list of words for iterator i in range \n",
    "[(word[:i]+word[i+1:]) for i in range(len(word))]\n",
    "\n"
   ]
  },
  {
   "cell_type": "markdown",
   "metadata": {},
   "source": [
    "Given a word, provided below, use a comprehension to make a list of all strings that can be formed by replacing exactly one vowel in the word with a different vowel."
   ]
  },
  {
   "cell_type": "code",
   "execution_count": 6,
   "metadata": {},
   "outputs": [
    {
     "ename": "TypeError",
     "evalue": "unsupported operand type(s) for |: 'str' and 'str'",
     "output_type": "error",
     "traceback": [
      "\u001b[1;31m---------------------------------------------------------------------------\u001b[0m",
      "\u001b[1;31mTypeError\u001b[0m                                 Traceback (most recent call last)",
      "\u001b[1;32m<ipython-input-6-cb812217937c>\u001b[0m in \u001b[0;36m<module>\u001b[1;34m()\u001b[0m\n\u001b[0;32m      4\u001b[0m \u001b[1;31m#traditional way\u001b[0m\u001b[1;33m\u001b[0m\u001b[1;33m\u001b[0m\u001b[0m\n\u001b[0;32m      5\u001b[0m \u001b[1;32mwhile\u001b[0m \u001b[0mi\u001b[0m \u001b[1;33m<\u001b[0m \u001b[0mlen\u001b[0m\u001b[1;33m(\u001b[0m\u001b[0mword\u001b[0m\u001b[1;33m)\u001b[0m\u001b[1;33m:\u001b[0m\u001b[1;33m\u001b[0m\u001b[0m\n\u001b[1;32m----> 6\u001b[1;33m     \u001b[1;32mif\u001b[0m \u001b[0mword\u001b[0m\u001b[1;33m[\u001b[0m\u001b[0mi\u001b[0m\u001b[1;33m]\u001b[0m\u001b[1;33m.\u001b[0m\u001b[0mlower\u001b[0m\u001b[1;33m(\u001b[0m\u001b[1;33m)\u001b[0m \u001b[1;33m!=\u001b[0m \u001b[1;34m'a'\u001b[0m \u001b[1;33m|\u001b[0m \u001b[1;34m'e'\u001b[0m \u001b[1;33m|\u001b[0m \u001b[1;34m'i'\u001b[0m \u001b[1;33m|\u001b[0m \u001b[1;34m'o'\u001b[0m \u001b[1;33m|\u001b[0m \u001b[1;34m'u'\u001b[0m\u001b[1;33m:\u001b[0m   \u001b[1;31m#check if letter is vowel\u001b[0m\u001b[1;33m\u001b[0m\u001b[0m\n\u001b[0m\u001b[0;32m      7\u001b[0m         \u001b[1;32mbreak\u001b[0m\u001b[1;33m\u001b[0m\u001b[0m\n\u001b[0;32m      8\u001b[0m     \u001b[1;32melse\u001b[0m\u001b[1;33m:\u001b[0m\u001b[1;33m\u001b[0m\u001b[0m\n",
      "\u001b[1;31mTypeError\u001b[0m: unsupported operand type(s) for |: 'str' and 'str'"
     ]
    }
   ],
   "source": [
    "word = \"Booted\"\n",
    "i = 0\n",
    "ans_list=[]\n",
    "#traditional way\n",
    "while i < len(word):\n",
    "    if word[i].lower() != 'a' | 'e' | 'i' | 'o' | 'u':   #check if letter is vowel\n",
    "        break\n",
    "    else:\n",
    "        if word[i].lower() == 'a':\n",
    "            \n",
    "            ans_list.append()\n",
    "\n",
    "#gave up on the traditional way because too tedious to code for every case"
   ]
  },
  {
   "cell_type": "code",
   "execution_count": 9,
   "metadata": {},
   "outputs": [
    {
     "ename": "SyntaxError",
     "evalue": "invalid syntax (<ipython-input-9-08ffb8550aab>, line 3)",
     "output_type": "error",
     "traceback": [
      "\u001b[1;36m  File \u001b[1;32m\"<ipython-input-9-08ffb8550aab>\"\u001b[1;36m, line \u001b[1;32m3\u001b[0m\n\u001b[1;33m    [word.replace(word[i], ('a' if word[i] != 'a', 'e' if word[i] != 'e')) for i in range(len(word)) if word[i] in vowels]\u001b[0m\n\u001b[1;37m                                                 ^\u001b[0m\n\u001b[1;31mSyntaxError\u001b[0m\u001b[1;31m:\u001b[0m invalid syntax\n"
     ]
    }
   ],
   "source": [
    "word = \"Booted\"\n",
    "vowels = 'aeiou'\n",
    "[word.replace(word[i], ('a' if word[i] != 'a', 'e' if word[i] != 'e')) for i in range(len(word)) if word[i] in vowels]\n",
    "\n",
    "#probably require a nested list comprehension, the first one to check for vowels\n",
    "#the second one to then loop through and print the different vowels in list"
   ]
  },
  {
   "cell_type": "code",
   "execution_count": null,
   "metadata": {
    "collapsed": true
   },
   "outputs": [],
   "source": []
  },
  {
   "cell_type": "code",
   "execution_count": null,
   "metadata": {
    "collapsed": true
   },
   "outputs": [],
   "source": []
  },
  {
   "cell_type": "code",
   "execution_count": null,
   "metadata": {
    "collapsed": true
   },
   "outputs": [],
   "source": []
  },
  {
   "cell_type": "code",
   "execution_count": null,
   "metadata": {
    "collapsed": true
   },
   "outputs": [],
   "source": []
  },
  {
   "cell_type": "code",
   "execution_count": null,
   "metadata": {
    "collapsed": true
   },
   "outputs": [],
   "source": []
  }
 ],
 "metadata": {
  "kernelspec": {
   "display_name": "Python 3",
   "language": "python",
   "name": "python3"
  },
  "language_info": {
   "codemirror_mode": {
    "name": "ipython",
    "version": 3
   },
   "file_extension": ".py",
   "mimetype": "text/x-python",
   "name": "python",
   "nbconvert_exporter": "python",
   "pygments_lexer": "ipython3",
   "version": "3.6.2"
  }
 },
 "nbformat": 4,
 "nbformat_minor": 1
}
