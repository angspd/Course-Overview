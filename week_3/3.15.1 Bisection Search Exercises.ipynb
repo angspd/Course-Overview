{
 "cells": [
  {
   "cell_type": "markdown",
   "metadata": {},
   "source": [
    "1. Try inputting 0.25 into the bisection search algorithm below and confirm that it doesn't work.  Then correct the algorithm so that it works for all positive numbers."
   ]
  },
  {
   "cell_type": "code",
   "execution_count": 8,
   "metadata": {},
   "outputs": [
    {
     "name": "stdout",
     "output_type": "stream",
     "text": [
      "enter a number:4\n",
      "low = 0.0 high = 4.0\n",
      "low = 0.0 high = 2.0\n",
      "low = 1.0 high = 2.0\n",
      "low = 1.5 high = 2.0\n",
      "low = 1.75 high = 2.0\n",
      "low = 1.875 high = 2.0\n",
      "low = 1.9375 high = 2.0\n",
      "low = 1.96875 high = 2.0\n",
      "low = 1.984375 high = 2.0\n",
      "low = 1.9921875 high = 2.0\n",
      "low = 1.99609375 high = 2.0\n",
      "low = 1.998046875 high = 2.0\n",
      "low = 1.9990234375 high = 2.0\n",
      "low = 1.99951171875 high = 2.0\n",
      "low = 1.999755859375 high = 2.0\n",
      "low = 1.9998779296875 high = 2.0\n",
      "low = 1.99993896484375 high = 2.0\n",
      "low = 1.999969482421875 high = 2.0\n",
      "number of guesses = 18\n",
      "1.9999923706054688 is close to square root of 4.0\n"
     ]
    }
   ],
   "source": [
    "## Bisection Search to Find a Square Root\n",
    "\n",
    "x = float(input(\"enter a number:\"))\n",
    "epsilon = 0.00001\n",
    "num_guesses = 0\n",
    "low = 0.0\n",
    "\n",
    "#changes so that algorithm works for all positive numbers\n",
    "#takes into account numbers <1\n",
    "if x>=1:\n",
    "    high= x\n",
    "else:\n",
    "    high = 1\n",
    "    \n",
    "ans = (high + low)/2.0\n",
    "while high-low >= 2 * epsilon:\n",
    "    print(\"low =\",low,\"high =\", high)\n",
    "    num_guesses += 1\n",
    "    if ans**2 < x:\n",
    "        low = ans\n",
    "    else:\n",
    "        high = ans\n",
    "    ans = (high + low)/2.0\n",
    "print('number of guesses =', num_guesses)\n",
    "print(ans, 'is close to square root of', x)"
   ]
  },
  {
   "cell_type": "code",
   "execution_count": null,
   "metadata": {
    "collapsed": true
   },
   "outputs": [],
   "source": []
  },
  {
   "cell_type": "code",
   "execution_count": null,
   "metadata": {
    "collapsed": true
   },
   "outputs": [],
   "source": []
  },
  {
   "cell_type": "code",
   "execution_count": null,
   "metadata": {
    "collapsed": true
   },
   "outputs": [],
   "source": []
  },
  {
   "cell_type": "markdown",
   "metadata": {},
   "source": [
    " 2. You run the bisection search algorithm to find the square root of x to a precision of epsilon.  Write down a formula for how many loop iterations it takes for the algorithm to complete.  Hint: first suppose that x has the special value $epsilon * 2^n$, where n is an integer."
   ]
  },
  {
   "cell_type": "code",
   "execution_count": 10,
   "metadata": {},
   "outputs": [
    {
     "name": "stdout",
     "output_type": "stream",
     "text": [
      "Enter a number: 4\n",
      "temp is 399999.99999999994\n",
      "The algorithm took 0 search iterations.\n"
     ]
    }
   ],
   "source": [
    "x = int(input('Enter a number: '))\n",
    "\n",
    "epsilon = 0.00001\n",
    "counter = 0\n",
    "#x = epsilon * 2**n\n",
    "#2**n = x/epsilon\n",
    "temp = x/epsilon\n",
    "print('temp is', temp)\n",
    "\n",
    "while temp%2 == 0:\n",
    "    temp /= 2\n",
    "    counter+=1\n",
    "    \n",
    "print('The algorithm took', counter, 'search iterations.')\n",
    "\n",
    "\n"
   ]
  },
  {
   "cell_type": "code",
   "execution_count": null,
   "metadata": {
    "collapsed": true
   },
   "outputs": [],
   "source": []
  },
  {
   "cell_type": "code",
   "execution_count": null,
   "metadata": {
    "collapsed": true
   },
   "outputs": [],
   "source": []
  },
  {
   "cell_type": "code",
   "execution_count": null,
   "metadata": {
    "collapsed": true
   },
   "outputs": [],
   "source": []
  },
  {
   "cell_type": "code",
   "execution_count": null,
   "metadata": {
    "collapsed": true
   },
   "outputs": [],
   "source": []
  }
 ],
 "metadata": {
  "kernelspec": {
   "display_name": "Python 3",
   "language": "python",
   "name": "python3"
  },
  "language_info": {
   "codemirror_mode": {
    "name": "ipython",
    "version": 3
   },
   "file_extension": ".py",
   "mimetype": "text/x-python",
   "name": "python",
   "nbconvert_exporter": "python",
   "pygments_lexer": "ipython3",
   "version": "3.6.2"
  }
 },
 "nbformat": 4,
 "nbformat_minor": 1
}
